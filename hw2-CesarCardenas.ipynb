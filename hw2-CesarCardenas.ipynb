{
 "cells": [
  {
   "cell_type": "markdown",
   "id": "a2665cc8",
   "metadata": {},
   "source": [
    "## CMP-3004\n",
    "## Computer Organization\n",
    "\n",
    "### Spring 2023"
   ]
  },
  {
   "cell_type": "markdown",
   "id": "df038792",
   "metadata": {},
   "source": [
    "## Homework 2"
   ]
  },
  {
   "cell_type": "markdown",
   "id": "d7a5493e",
   "metadata": {},
   "source": [
    "### 1. List and briefly define the possible states that define an instruction execution."
   ]
  },
  {
   "cell_type": "markdown",
   "id": "eff72949",
   "metadata": {},
   "source": [
    "1.Fetch: la instrucción se obtiene de la memoria y se carga en el registro de instrucciones (IR).\n",
    "2.Decodificar: la instrucción en el IR se decodifica para determinar qué operación representa y qué operandos están involucrados.\n",
    "3.Operand Fetch: los fetched necesarios para la instrucción se obtienen de la memoria o de los registros.\n",
    "4.Execute: se realiza la operación especificada por la instrucción, utilizando los fetch obtenidos.\n",
    "5.Write back: el resultado de la operación se vuelve a escribir en la memoria o en los registros.\n",
    "6.Interrupción: durante la ejecución de una instrucción, puede ocurrir una interrupción, lo que hace que el sistema suspenda temporalmente y maneje la solicitud de interrupción. Una vez que se manejado este error, el sistema vuelve al estado de ejecución de instrucciones."
   ]
  },
  {
   "cell_type": "markdown",
   "id": "6d39def2",
   "metadata": {},
   "source": [
    "### 2. What types of transfers must a computer’s interconnection structure (e.g., bus) support?"
   ]
  },
  {
   "cell_type": "markdown",
   "id": "3144d1d8",
   "metadata": {},
   "source": [
    "Data Transfer: implica mover datos de una ubicación a otra, como entre la memoria y el procesador, o entre los periféricos y la memoria.\n",
    "Instruction Transfer: esto implica mover instrucciones de la memoria al procesador para que el procesador pueda ejecutarlas.\n",
    "Control Transfer: implica la transferencia de señales de control entre diferentes componentes del sistema informático, como entre el procesador y la memoria o entre el procesador y los dispositivos periféricos.\n",
    "Address Transfer: implica la transferencia de direcciones de memoria entre los componentes del sistema informático, como entre el procesador y la memoria o entre el procesador y los dispositivos periféricos.\n",
    "Status Transfer: implica la transferencia de información de estado entre los componentes del sistema informático, como entre el procesador y los dispositivos periféricos, para indicar el estado de una operación o dispositivo en particular.\n",
    "    "
   ]
  },
  {
   "cell_type": "markdown",
   "id": "f7c2063e",
   "metadata": {},
   "source": [
    "### 3. Consider a hypothetical 32-bit microprocessor having 32-bit instructions composed of two fields: the first byte contains the opcode and the remainder the immediate operand or an operand address.\n",
    "a. What is the maximum directly addressable memory capacity (in bytes)?\n",
    "\n",
    "b. Discuss the impact on the system speed if the microprocessor bus has:\n",
    "\n",
    "    1. 32-bit local address bus and a 16-bit local data bus, or\n",
    "    2. 16-bit local address bus and a 16-bit local data bus.\n",
    "\n",
    "c. How many bits are needed for the program counter and the instruction register?"
   ]
  },
  {
   "cell_type": "markdown",
   "id": "38624478",
   "metadata": {},
   "source": [
    "a)La capacidad de memoria máxima directamente direccionable de un microprocesador hipotético de 32 bits está determinada por la cantidad de bits utilizados para representar una dirección de memoria. Debido a que cada instrucción tiene un campo de dirección de operando, la cantidad máxima de memoria directamente direccionable está determinada por el valor máximo representable en este campo. Los microprocesadores tienen instrucciones de 32 bits y el código de operación está en el primer byte, por lo que el campo de dirección del operando tiene una longitud de 31 bits. Por lo tanto, la capacidad máxima de la memoria directamente direccionable es de 2^31 bytes o 2 gigabytes."
   ]
  },
  {
   "cell_type": "markdown",
   "id": "f46a1742",
   "metadata": {},
   "source": [
    "b)La velocidad de un sistema de microprocesador puede verse afectada por el ancho de la dirección local y el bus de datos. Un bus más ancho puede transportar más datos simultáneamente, lo que aumenta el rendimiento del sistema. en este caso:\n",
    "\n",
    "Si un microprocesador tiene un bus de direcciones local de 32 bits y un bus de datos local de 16 bits, se requieren dos ciclos de bus para enviar un comando de 32 bits porque los datos deben enviarse en dos partes. Esto puede ralentizar el rendimiento del sistema en comparación con los sistemas con un bus de datos nativo de 32 bits. En cambio si un microprocesador tiene un bus de direcciones local de 16 bits y un bus de datos local de 16 bits este puede transferir 16 bits de datos en un ciclo de bus, pero de igual manera se necesitan dos ciclos de bus para transferir un comando de bits de 32 bits lo que tambien relentiza el rendimiento."
   ]
  },
  {
   "cell_type": "markdown",
   "id": "43ee7107",
   "metadata": {},
   "source": [
    "El contador de programa (PC) es un registro que contiene la dirección de memoria de la próxima instrucción a recibir. Dado que la capacidad máxima de la memoria directamente direccionable es de 2^31 bytes, el contador del programa debe tener al menos 31 bits para direccionar toda la memoria. Sin embargo, el contador de programa puede tener más bits para admitir modos de direccionamiento adicionales o para permitir que el microprocesador dirija más memoria en el futuro.\n",
    "El registro de instrucción (IR) es el registro que contiene la instrucción actual que se está ejecutando. Cada instrucción tiene una longitud de 32 bits, por lo que el registro de instrucciones debe tener una longitud de 32 bits para almacenar la instrucción completa."
   ]
  },
  {
   "cell_type": "markdown",
   "id": "85a4f601",
   "metadata": {},
   "source": [
    "### 4. A microprocessor is clocked at a rate of 5 GHz.\n",
    "a. How long is a clock cycle?\n",
    "\n",
    "b. What is the duration of a particular type of machine instruction consisting of three clock cycles?"
   ]
  },
  {
   "cell_type": "markdown",
   "id": "502b7444",
   "metadata": {},
   "source": [
    "a)La duración de un período de reloj es la inversa de la frecuencia del reloj. Por tanto, la duración del ciclo de reloj de un microprocesador con una frecuencia de 5 GHz es 1/5 GHz esto quiere decir 0.2 ns (nano segundos)."
   ]
  },
  {
   "cell_type": "markdown",
   "id": "f5b992ca",
   "metadata": {},
   "source": [
    "b)Al tener la maquina 3 cilos esta tarda tres veces más que un solo ciclo de reloj, por lo que podemos decir lo siguiente: 3 * 0.2 =0.6 ns y esta es la duracion."
   ]
  },
  {
   "cell_type": "markdown",
   "id": "02d33e02",
   "metadata": {},
   "source": [
    "### 5. Suppose you wish to run a program P with $7.5 \\times 10^9$ instructions on a 5 GHz machine with a CPI of 0.8.\n",
    "a. What is the expected CPU time?\n",
    "\n",
    "b. When you run P, it takes 3 seconds of wall clock time to complete. What is the percentage of the CPU time P received?"
   ]
  },
  {
   "cell_type": "markdown",
   "id": "d8754f60",
   "metadata": {},
   "source": [
    "a)Para calcular el tiempo del CPU debemos hacer uso de la siguiente formula: Tiempo CPU = instruction x CPI / Clock rate, al remplazar los datos obtenemos que el tiempo del CPU es: 7.5x10^9 * 0.8/5. Esto nos deja un resultado de 1.2 seg."
   ]
  },
  {
   "cell_type": "markdown",
   "id": "028c4494",
   "metadata": {},
   "source": [
    "b)Este porcentaje se puede calcular de la siguiente manera: %CPU = (tiempo del CPU / wall clock time )* 100%, al remplazar datos nos deja lo siguiente: %CPU = (1.2/3)* 100% = 40%, lo cual es nuestro resultado. "
   ]
  },
  {
   "cell_type": "markdown",
   "id": "18c4b56e",
   "metadata": {},
   "source": [
    "### 6. A nonpipelined processor has a clock rate of 2.5 GHz and an average CPI (cycles per instruction) of 4. An upgrade to the processor introduces a five-stage pipeline. However, due to internal pipeline delays, such as latch delay, the clock rate of the new processor has to be reduced to 2 GHz. What is the speedup achieved for a typical program?"
   ]
  },
  {
   "cell_type": "markdown",
   "id": "2efd5d4e",
   "metadata": {},
   "source": [
    "El speedup se calcula al dividir el timepo del CPU (nonpipelined) para el tiempo del CPU (pipelined). Para esto primero debemos calcular el tiempo del CPU (nonpipelined), esto lo calculamos con la siguiente formula: tiempo CPU(non)=Instruction x CPI / Clock rate, al remplazar datos obtenemos lo siguiente: tiempo CPU(non) =Instr x 4/2.5GHz = 1.6 x Instr.\n",
    "Despues calculamos el tiempo de CPU(pipe) =Instr x (Pipe +CPI -1)/Clock rate, al remplazar tenemos que el tiempo del CPU(pipe) = Instr x (5 + 4 - 1)/2GHz = 4 x Instr.\n",
    "Al dividir el tiempo del CPU(non)/ tiempo del CPU(pipe) => 1.6/4 => Esto nos deja con el resultado de 0.4. Esto quiere decir que el nuevo procesador es un 0.4 mas rapido."
   ]
  }
 ],
 "metadata": {
  "kernelspec": {
   "display_name": "Python 3",
   "language": "python",
   "name": "python3"
  },
  "language_info": {
   "codemirror_mode": {
    "name": "ipython",
    "version": 3
   },
   "file_extension": ".py",
   "mimetype": "text/x-python",
   "name": "python",
   "nbconvert_exporter": "python",
   "pygments_lexer": "ipython3",
   "version": "3.8.8"
  }
 },
 "nbformat": 4,
 "nbformat_minor": 5
}
